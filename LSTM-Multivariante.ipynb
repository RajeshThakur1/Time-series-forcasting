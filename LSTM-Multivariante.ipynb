{
 "cells": [
  {
   "cell_type": "code",
   "execution_count": 94,
   "id": "885b8ded-7ff8-4bcf-98a1-b011eac49a4b",
   "metadata": {},
   "outputs": [],
   "source": [
    "import pandas as pd\n",
    "import numpy as np\n",
    "import matplotlib.pyplot as plt"
   ]
  },
  {
   "cell_type": "code",
   "execution_count": 95,
   "id": "309b7ea0-5e4a-4656-bc44-4517f3a475a9",
   "metadata": {},
   "outputs": [],
   "source": [
    "df = pd.read_csv('Electricity+Consumption.csv')"
   ]
  },
  {
   "cell_type": "code",
   "execution_count": 97,
   "id": "840c13d8-3612-42b6-9e74-b2bed5a35876",
   "metadata": {},
   "outputs": [],
   "source": [
    "df.dropna(inplace=True)\n",
    "df1 = df.iloc[:,1:]"
   ]
  },
  {
   "cell_type": "code",
   "execution_count": 98,
   "id": "82f50c56-bcaa-456b-8384-961ef73c0cd0",
   "metadata": {},
   "outputs": [
    {
     "data": {
      "text/html": [
       "<div>\n",
       "<style scoped>\n",
       "    .dataframe tbody tr th:only-of-type {\n",
       "        vertical-align: middle;\n",
       "    }\n",
       "\n",
       "    .dataframe tbody tr th {\n",
       "        vertical-align: top;\n",
       "    }\n",
       "\n",
       "    .dataframe thead th {\n",
       "        text-align: right;\n",
       "    }\n",
       "</style>\n",
       "<table border=\"1\" class=\"dataframe\">\n",
       "  <thead>\n",
       "    <tr style=\"text-align: right;\">\n",
       "      <th></th>\n",
       "      <th>DATE</th>\n",
       "      <th>Humidity</th>\n",
       "      <th>Temperature</th>\n",
       "      <th>Electricity</th>\n",
       "    </tr>\n",
       "  </thead>\n",
       "  <tbody>\n",
       "    <tr>\n",
       "      <th>0</th>\n",
       "      <td>2020-01-01 00:00:00 EST</td>\n",
       "      <td>92</td>\n",
       "      <td>-1.1</td>\n",
       "      <td>914</td>\n",
       "    </tr>\n",
       "    <tr>\n",
       "      <th>1</th>\n",
       "      <td>2020-01-01 01:00:00 EST</td>\n",
       "      <td>92</td>\n",
       "      <td>-1.5</td>\n",
       "      <td>887</td>\n",
       "    </tr>\n",
       "    <tr>\n",
       "      <th>2</th>\n",
       "      <td>2020-01-01 02:00:00 EST</td>\n",
       "      <td>91</td>\n",
       "      <td>-1.5</td>\n",
       "      <td>865</td>\n",
       "    </tr>\n",
       "    <tr>\n",
       "      <th>3</th>\n",
       "      <td>2020-01-01 03:00:00 EST</td>\n",
       "      <td>88</td>\n",
       "      <td>-1.1</td>\n",
       "      <td>852</td>\n",
       "    </tr>\n",
       "    <tr>\n",
       "      <th>4</th>\n",
       "      <td>2020-01-01 04:00:00 EST</td>\n",
       "      <td>87</td>\n",
       "      <td>-1.3</td>\n",
       "      <td>852</td>\n",
       "    </tr>\n",
       "    <tr>\n",
       "      <th>...</th>\n",
       "      <td>...</td>\n",
       "      <td>...</td>\n",
       "      <td>...</td>\n",
       "      <td>...</td>\n",
       "    </tr>\n",
       "    <tr>\n",
       "      <th>8755</th>\n",
       "      <td>2020-12-30 19:00:00 EST</td>\n",
       "      <td>95</td>\n",
       "      <td>-1.2</td>\n",
       "      <td>1180</td>\n",
       "    </tr>\n",
       "    <tr>\n",
       "      <th>8756</th>\n",
       "      <td>2020-12-30 20:00:00 EST</td>\n",
       "      <td>93</td>\n",
       "      <td>0.8</td>\n",
       "      <td>1133</td>\n",
       "    </tr>\n",
       "    <tr>\n",
       "      <th>8757</th>\n",
       "      <td>2020-12-30 21:00:00 EST</td>\n",
       "      <td>94</td>\n",
       "      <td>1.9</td>\n",
       "      <td>1073</td>\n",
       "    </tr>\n",
       "    <tr>\n",
       "      <th>8758</th>\n",
       "      <td>2020-12-30 22:00:00 EST</td>\n",
       "      <td>93</td>\n",
       "      <td>2.2</td>\n",
       "      <td>994</td>\n",
       "    </tr>\n",
       "    <tr>\n",
       "      <th>8759</th>\n",
       "      <td>2020-12-30 23:00:00 EST</td>\n",
       "      <td>95</td>\n",
       "      <td>2.6</td>\n",
       "      <td>919</td>\n",
       "    </tr>\n",
       "  </tbody>\n",
       "</table>\n",
       "<p>8760 rows × 4 columns</p>\n",
       "</div>"
      ],
      "text/plain": [
       "                         DATE  Humidity  Temperature  Electricity\n",
       "0     2020-01-01 00:00:00 EST        92         -1.1          914\n",
       "1     2020-01-01 01:00:00 EST        92         -1.5          887\n",
       "2     2020-01-01 02:00:00 EST        91         -1.5          865\n",
       "3     2020-01-01 03:00:00 EST        88         -1.1          852\n",
       "4     2020-01-01 04:00:00 EST        87         -1.3          852\n",
       "...                       ...       ...          ...          ...\n",
       "8755  2020-12-30 19:00:00 EST        95         -1.2         1180\n",
       "8756  2020-12-30 20:00:00 EST        93          0.8         1133\n",
       "8757  2020-12-30 21:00:00 EST        94          1.9         1073\n",
       "8758  2020-12-30 22:00:00 EST        93          2.2          994\n",
       "8759  2020-12-30 23:00:00 EST        95          2.6          919\n",
       "\n",
       "[8760 rows x 4 columns]"
      ]
     },
     "execution_count": 98,
     "metadata": {},
     "output_type": "execute_result"
    }
   ],
   "source": [
    "df"
   ]
  },
  {
   "cell_type": "code",
   "execution_count": 99,
   "id": "bdcc7665-102a-47de-b8f9-ac601c7a9d79",
   "metadata": {},
   "outputs": [
    {
     "data": {
      "text/plain": [
       "<Axes: >"
      ]
     },
     "execution_count": 99,
     "metadata": {},
     "output_type": "execute_result"
    },
    {
     "data": {
      "image/png": "[encoded data removed]",
      "text/plain": [
       "<Figure size 640x480 with 2 Axes>"
      ]
     },
     "metadata": {},
     "output_type": "display_data"
    }
   ],
   "source": [
    "import seaborn as sn\n",
    "sn.heatmap(df1.corr())"
   ]
  },
  {
   "cell_type": "code",
   "execution_count": 103,
   "id": "2ec7429b-91dc-4cd7-a64a-cef938d09dae",
   "metadata": {},
   "outputs": [
    {
     "data": {
      "text/plain": [
       "(8712, 3)"
      ]
     },
     "execution_count": 103,
     "metadata": {},
     "output_type": "execute_result"
    }
   ],
   "source": [
    "training_set = df.iloc[:8712,1:4].values\n",
    "test_set = df.iloc[8712:,1:4].values\n",
    "training_set.shape"
   ]
  },
  {
   "cell_type": "code",
   "execution_count": 13,
   "id": "9296751c-8d51-4709-8531-f73192fdaf5f",
   "metadata": {},
   "outputs": [],
   "source": [
    "from sklearn.preprocessing import MinMaxScaler"
   ]
  },
  {
   "cell_type": "code",
   "execution_count": 14,
   "id": "d1aca732-dbf6-4a66-a56b-5827942889ed",
   "metadata": {},
   "outputs": [],
   "source": [
    "sc = MinMaxScaler(feature_range=(0,1))"
   ]
  },
  {
   "cell_type": "code",
   "execution_count": 104,
   "id": "df731261-a11f-4a1b-851b-1e2543e45401",
   "metadata": {},
   "outputs": [
    {
     "data": {
      "text/plain": [
       "array([[0.61702128, 0.375     , 0.08372093],\n",
       "       [0.70212766, 0.30555556, 0.04186047],\n",
       "       [0.68085106, 0.22222222, 0.01860465],\n",
       "       [0.65957447, 0.1875    , 0.        ],\n",
       "       [0.65957447, 0.15972222, 0.04186047],\n",
       "       [0.68085106, 0.125     , 0.1372093 ],\n",
       "       [0.63829787, 0.08333333, 0.30930233],\n",
       "       [0.63829787, 0.02777778, 0.44418605],\n",
       "       [0.63829787, 0.        , 0.47906977],\n",
       "       [0.61702128, 0.04166667, 0.43953488],\n",
       "       [0.53191489, 0.09722222, 0.33488372],\n",
       "       [0.46808511, 0.15972222, 0.41162791],\n",
       "       [0.31914894, 0.22222222, 0.4       ],\n",
       "       [0.21276596, 0.28472222, 0.38372093],\n",
       "       [0.14893617, 0.29861111, 0.41860465],\n",
       "       [0.        , 0.34027778, 0.56511628],\n",
       "       [0.04255319, 0.3125    , 0.78139535],\n",
       "       [0.21276596, 0.21527778, 1.        ],\n",
       "       [0.27659574, 0.21527778, 0.90930233],\n",
       "       [0.44680851, 0.125     , 0.84651163],\n",
       "       [0.44680851, 0.13194444, 0.76046512],\n",
       "       [0.53191489, 0.20138889, 0.61860465],\n",
       "       [0.57446809, 0.19444444, 0.48604651],\n",
       "       [0.5106383 , 0.22222222, 0.26744186],\n",
       "       [0.55319149, 0.22916667, 0.19069767],\n",
       "       [0.59574468, 0.20833333, 0.10930233],\n",
       "       [0.59574468, 0.22916667, 0.06046512],\n",
       "       [0.63829787, 0.22916667, 0.01395349],\n",
       "       [0.70212766, 0.23611111, 0.08139535],\n",
       "       [0.72340426, 0.24305556, 0.16046512],\n",
       "       [0.74468085, 0.23611111, 0.33488372],\n",
       "       [0.72340426, 0.28472222, 0.44418605],\n",
       "       [0.72340426, 0.30555556, 0.49069767],\n",
       "       [0.63829787, 0.41666667, 0.55581395],\n",
       "       [0.61702128, 0.48611111, 0.63255814],\n",
       "       [0.65957447, 0.5       , 0.73953488],\n",
       "       [0.89361702, 0.5       , 0.73488372],\n",
       "       [0.85106383, 0.54166667, 0.69302326],\n",
       "       [0.85106383, 0.55555556, 0.70232558],\n",
       "       [0.93617021, 0.57638889, 0.74651163],\n",
       "       [0.95744681, 0.59027778, 0.86976744],\n",
       "       [0.9787234 , 0.63888889, 0.93023256],\n",
       "       [0.9787234 , 0.68055556, 0.78372093],\n",
       "       [1.        , 0.73611111, 0.63953488],\n",
       "       [0.95744681, 0.875     , 0.53023256],\n",
       "       [0.9787234 , 0.95138889, 0.39069767],\n",
       "       [0.95744681, 0.97222222, 0.20697674],\n",
       "       [1.        , 1.        , 0.03255814]])"
      ]
     },
     "execution_count": 104,
     "metadata": {},
     "output_type": "execute_result"
    }
   ],
   "source": [
    "training_set_scaled = sc.fit_transform(training_set)\n",
    "test_set_scaled = sc.fit_transform(test_set)\n",
    "test_set_scaled"
   ]
  },
  {
   "cell_type": "code",
   "execution_count": 17,
   "id": "e9d5e2cf-2c66-4020-b8c3-d2f9c0facd3d",
   "metadata": {},
   "outputs": [],
   "source": [
    "test_set_scaled = test_set_scaled[:,0:2]"
   ]
  },
  {
   "cell_type": "code",
   "execution_count": 18,
   "id": "d521b071-d42c-49c2-9c6e-d72d3c72e3ad",
   "metadata": {},
   "outputs": [],
   "source": [
    "X_train = []\n",
    "y_train = []\n",
    "ws = 24\n",
    "\n",
    "for i in range(ws,len(training_set_scaled)):\n",
    "    X_train.append(training_set_scaled[i-ws:i,0:3])\n",
    "    y_train.append(training_set_scaled[i,2]) \n",
    "X_train,y_train = np.array(X_train),np.array(y_train)"
   ]
  },
  {
   "cell_type": "code",
   "execution_count": 23,
   "id": "23db2044-cf61-402e-a955-7e0bf676f6e0",
   "metadata": {},
   "outputs": [],
   "source": [
    "X_train = np.reshape(X_train,(X_train.shape[0], X_train.shape[1],3))"
   ]
  },
  {
   "cell_type": "code",
   "execution_count": 24,
   "id": "cabc77e4-cd98-4eb4-9eaf-ae51d96a4b45",
   "metadata": {},
   "outputs": [
    {
     "data": {
      "text/plain": [
       "(8688, 24, 3)"
      ]
     },
     "execution_count": 24,
     "metadata": {},
     "output_type": "execute_result"
    }
   ],
   "source": [
    "X_train.shape"
   ]
  },
  {
   "cell_type": "code",
   "execution_count": 25,
   "id": "c0671e1f-ca1c-4917-8abd-d3878dc4560e",
   "metadata": {},
   "outputs": [],
   "source": [
    "# Devloping the LSTM MODEL\n",
    "\n",
    "from keras.models import Sequential\n",
    "from keras.layers import LSTM\n",
    "from keras.layers import Dense\n",
    "from keras.layers import Dropout\n"
   ]
  },
  {
   "cell_type": "code",
   "execution_count": 102,
   "id": "171219e8-92c1-4b0f-9f7f-9fe00671b615",
   "metadata": {},
   "outputs": [
    {
     "data": {
      "text/plain": [
       "(8688, 24, 3)"
      ]
     },
     "execution_count": 102,
     "metadata": {},
     "output_type": "execute_result"
    }
   ],
   "source": [
    "X_train.shape"
   ]
  },
  {
   "cell_type": "code",
   "execution_count": 81,
   "id": "79ebaa7b-7929-40d1-86c9-af6d8d12524e",
   "metadata": {},
   "outputs": [
    {
     "name": "stdout",
     "output_type": "stream",
     "text": [
      "Epoch 1/80\n",
      "272/272 [==============================] - 8s 21ms/step - loss: 0.0160\n",
      "Epoch 2/80\n",
      "272/272 [==============================] - 6s 20ms/step - loss: 0.0059\n",
      "Epoch 3/80\n",
      "272/272 [==============================] - 5s 19ms/step - loss: 0.0050\n",
      "Epoch 4/80\n",
      "272/272 [==============================] - 5s 19ms/step - loss: 0.0045\n",
      "Epoch 5/80\n",
      "272/272 [==============================] - 5s 19ms/step - loss: 0.0039\n",
      "Epoch 6/80\n",
      "272/272 [==============================] - 5s 20ms/step - loss: 0.0031\n",
      "Epoch 7/80\n",
      "272/272 [==============================] - 6s 21ms/step - loss: 0.0026\n",
      "Epoch 8/80\n",
      "272/272 [==============================] - 6s 21ms/step - loss: 0.0020\n",
      "Epoch 9/80\n",
      "272/272 [==============================] - 5s 20ms/step - loss: 0.0015\n",
      "Epoch 10/80\n",
      "272/272 [==============================] - 6s 20ms/step - loss: 0.0012\n",
      "Epoch 11/80\n",
      "272/272 [==============================] - 5s 20ms/step - loss: 0.0011\n",
      "Epoch 12/80\n",
      "272/272 [==============================] - 5s 19ms/step - loss: 9.7738e-04\n",
      "Epoch 13/80\n",
      "272/272 [==============================] - 5s 19ms/step - loss: 9.2007e-04\n",
      "Epoch 14/80\n",
      "272/272 [==============================] - 5s 19ms/step - loss: 8.6471e-04\n",
      "Epoch 15/80\n",
      "272/272 [==============================] - 5s 19ms/step - loss: 7.5926e-04\n",
      "Epoch 16/80\n",
      "272/272 [==============================] - 5s 19ms/step - loss: 7.6422e-04\n",
      "Epoch 17/80\n",
      "272/272 [==============================] - 5s 19ms/step - loss: 6.7033e-04\n",
      "Epoch 18/80\n",
      "272/272 [==============================] - 5s 20ms/step - loss: 6.5573e-04\n",
      "Epoch 19/80\n",
      "272/272 [==============================] - 5s 19ms/step - loss: 6.1833e-04\n",
      "Epoch 20/80\n",
      "272/272 [==============================] - 5s 20ms/step - loss: 5.7638e-04\n",
      "Epoch 21/80\n",
      "272/272 [==============================] - 6s 20ms/step - loss: 5.6210e-04\n",
      "Epoch 22/80\n",
      "272/272 [==============================] - 5s 20ms/step - loss: 5.9374e-04\n",
      "Epoch 23/80\n",
      "272/272 [==============================] - 5s 20ms/step - loss: 5.5904e-04\n",
      "Epoch 24/80\n",
      "272/272 [==============================] - 5s 20ms/step - loss: 5.5695e-04\n",
      "Epoch 25/80\n",
      "272/272 [==============================] - 5s 20ms/step - loss: 4.9760e-04\n",
      "Epoch 26/80\n",
      "272/272 [==============================] - 5s 20ms/step - loss: 4.9520e-04\n",
      "Epoch 27/80\n",
      "272/272 [==============================] - 5s 20ms/step - loss: 5.0846e-04\n",
      "Epoch 28/80\n",
      "272/272 [==============================] - 5s 20ms/step - loss: 4.9576e-04\n",
      "Epoch 29/80\n",
      "272/272 [==============================] - 5s 20ms/step - loss: 4.8035e-04\n",
      "Epoch 30/80\n",
      "272/272 [==============================] - 5s 20ms/step - loss: 4.6144e-04\n",
      "Epoch 31/80\n",
      "272/272 [==============================] - 5s 20ms/step - loss: 4.8048e-04\n",
      "Epoch 32/80\n",
      "272/272 [==============================] - 5s 20ms/step - loss: 4.5555e-04\n",
      "Epoch 33/80\n",
      "272/272 [==============================] - 5s 20ms/step - loss: 4.4765e-04\n",
      "Epoch 34/80\n",
      "272/272 [==============================] - 5s 20ms/step - loss: 4.3940e-04\n",
      "Epoch 35/80\n",
      "272/272 [==============================] - 5s 20ms/step - loss: 4.5214e-04\n",
      "Epoch 36/80\n",
      "272/272 [==============================] - 5s 20ms/step - loss: 4.3290e-04\n",
      "Epoch 37/80\n",
      "272/272 [==============================] - 5s 20ms/step - loss: 4.4945e-04\n",
      "Epoch 38/80\n",
      "272/272 [==============================] - 5s 20ms/step - loss: 4.4087e-04\n",
      "Epoch 39/80\n",
      "272/272 [==============================] - 5s 19ms/step - loss: 4.1584e-04\n",
      "Epoch 40/80\n",
      "272/272 [==============================] - 5s 19ms/step - loss: 4.2082e-04\n",
      "Epoch 41/80\n",
      "272/272 [==============================] - 5s 19ms/step - loss: 4.0628e-04\n",
      "Epoch 42/80\n",
      "272/272 [==============================] - 5s 19ms/step - loss: 3.9721e-04\n",
      "Epoch 43/80\n",
      "272/272 [==============================] - 5s 19ms/step - loss: 4.0658e-04\n",
      "Epoch 44/80\n",
      "272/272 [==============================] - 5s 19ms/step - loss: 3.8331e-04\n",
      "Epoch 45/80\n",
      "272/272 [==============================] - 5s 20ms/step - loss: 4.0232e-04\n",
      "Epoch 46/80\n",
      "272/272 [==============================] - 5s 20ms/step - loss: 3.8661e-04\n",
      "Epoch 47/80\n",
      "272/272 [==============================] - 5s 20ms/step - loss: 3.8743e-04\n",
      "Epoch 48/80\n",
      "272/272 [==============================] - 5s 20ms/step - loss: 3.8152e-04\n",
      "Epoch 49/80\n",
      "272/272 [==============================] - 5s 20ms/step - loss: 3.6596e-04\n",
      "Epoch 50/80\n",
      "272/272 [==============================] - 5s 20ms/step - loss: 3.9450e-04\n",
      "Epoch 51/80\n",
      "272/272 [==============================] - 5s 20ms/step - loss: 3.6699e-04\n",
      "Epoch 52/80\n",
      "272/272 [==============================] - 5s 20ms/step - loss: 3.4503e-04\n",
      "Epoch 53/80\n",
      "272/272 [==============================] - 5s 20ms/step - loss: 3.6329e-04\n",
      "Epoch 54/80\n",
      "272/272 [==============================] - 5s 20ms/step - loss: 3.5622e-04\n",
      "Epoch 55/80\n",
      "272/272 [==============================] - 5s 20ms/step - loss: 3.5310e-04\n",
      "Epoch 56/80\n",
      "272/272 [==============================] - 5s 20ms/step - loss: 3.4534e-04\n",
      "Epoch 57/80\n",
      "272/272 [==============================] - 5s 20ms/step - loss: 3.4885e-04\n",
      "Epoch 58/80\n",
      "272/272 [==============================] - 5s 20ms/step - loss: 3.4754e-04\n",
      "Epoch 59/80\n",
      "272/272 [==============================] - 5s 19ms/step - loss: 3.3833e-04\n",
      "Epoch 60/80\n",
      "272/272 [==============================] - 5s 20ms/step - loss: 3.4593e-04\n",
      "Epoch 61/80\n",
      "272/272 [==============================] - 5s 20ms/step - loss: 3.3294e-04\n",
      "Epoch 62/80\n",
      "272/272 [==============================] - 5s 20ms/step - loss: 3.5664e-04\n",
      "Epoch 63/80\n",
      "272/272 [==============================] - 5s 20ms/step - loss: 3.4083e-04\n",
      "Epoch 64/80\n",
      "272/272 [==============================] - 5s 20ms/step - loss: 3.2631e-04\n",
      "Epoch 65/80\n",
      "272/272 [==============================] - 5s 19ms/step - loss: 3.3221e-04\n",
      "Epoch 66/80\n",
      "272/272 [==============================] - 5s 19ms/step - loss: 3.2064e-04\n",
      "Epoch 67/80\n",
      "272/272 [==============================] - 5s 20ms/step - loss: 3.2031e-04\n",
      "Epoch 68/80\n",
      "272/272 [==============================] - 5s 20ms/step - loss: 3.2556e-04\n",
      "Epoch 69/80\n",
      "272/272 [==============================] - 5s 20ms/step - loss: 3.2625e-04\n",
      "Epoch 70/80\n",
      "272/272 [==============================] - 6s 20ms/step - loss: 3.1776e-04\n",
      "Epoch 71/80\n",
      "272/272 [==============================] - 5s 19ms/step - loss: 3.3028e-04\n",
      "Epoch 72/80\n",
      "272/272 [==============================] - 5s 20ms/step - loss: 3.1602e-04\n",
      "Epoch 73/80\n",
      "272/272 [==============================] - 5s 20ms/step - loss: 3.2941e-04\n",
      "Epoch 74/80\n",
      "272/272 [==============================] - 6s 20ms/step - loss: 3.1807e-04\n",
      "Epoch 75/80\n",
      "272/272 [==============================] - 6s 20ms/step - loss: 3.0816e-04\n",
      "Epoch 76/80\n",
      "272/272 [==============================] - 5s 20ms/step - loss: 3.0991e-04\n",
      "Epoch 77/80\n",
      "272/272 [==============================] - 5s 20ms/step - loss: 3.0580e-04\n",
      "Epoch 78/80\n",
      "272/272 [==============================] - 5s 20ms/step - loss: 3.0426e-04\n",
      "Epoch 79/80\n",
      "272/272 [==============================] - 5s 20ms/step - loss: 3.0519e-04\n",
      "Epoch 80/80\n",
      "272/272 [==============================] - 5s 20ms/step - loss: 3.1095e-04\n"
     ]
    },
    {
     "data": {
      "text/plain": [
       "<keras.src.callbacks.History at 0x30200a730>"
      ]
     },
     "execution_count": 81,
     "metadata": {},
     "output_type": "execute_result"
    }
   ],
   "source": [
    "model_p = Sequential()\n",
    "model_p.add(LSTM(units=60,return_sequences=True, input_shape=(X_train.shape[1],3)))\n",
    "model_p.add(Dropout(0.2))\n",
    "\n",
    "model_p.add(LSTM(units=100,return_sequences=True))\n",
    "model_p.add(Dropout(0.2))\n",
    "\n",
    "model_p.add(LSTM(units=100,return_sequences=True))\n",
    "model_p.add(Dropout(0.2))\n",
    "\n",
    "model_p.add(LSTM(units=100))\n",
    "model_p.add(Dropout(0.2))\n",
    "\n",
    "model_p.add(Dense(units=1))\n",
    "\n",
    "model_p.compile(optimizer='adam',loss='mean_squared_error')\n",
    "model_p.fit(X_train,y_train, epochs=80, batch_size=32)\n"
   ]
  },
  {
   "cell_type": "code",
   "execution_count": 82,
   "id": "d43c6467-cde2-4559-a32d-7ddc12727de7",
   "metadata": {},
   "outputs": [
    {
     "name": "stdout",
     "output_type": "stream",
     "text": [
      "INFO:tensorflow:Assets written to: LSTM-multivarient/assets\n"
     ]
    },
    {
     "name": "stderr",
     "output_type": "stream",
     "text": [
      "INFO:tensorflow:Assets written to: LSTM-multivarient/assets\n"
     ]
    }
   ],
   "source": [
    "model_p.save('LSTM-multivarient')"
   ]
  },
  {
   "cell_type": "code",
   "execution_count": 83,
   "id": "1f2bcb7d-dfd5-4c49-83dc-1885a0d0ec13",
   "metadata": {},
   "outputs": [],
   "source": [
    "from keras.models import load_model\n",
    "model_loaded = load_model('LSTM-multivarient')"
   ]
  },
  {
   "cell_type": "code",
   "execution_count": 84,
   "id": "41a2544a-cb54-42d9-afde-a855bfa2e0b9",
   "metadata": {},
   "outputs": [
    {
     "data": {
      "image/png": "[encoded data removed]",
      "text/plain": [
       "<Figure size 640x480 with 1 Axes>"
      ]
     },
     "metadata": {},
     "output_type": "display_data"
    }
   ],
   "source": [
    "plt.plot(range(len(model_p.history.history['loss'])),model_p.history.history['loss'])\n",
    "plt.xlabel('epoch number')\n",
    "plt.ylabel('loss')\n",
    "plt.show()\n"
   ]
  },
  {
   "cell_type": "code",
   "execution_count": 85,
   "id": "9f682b8f-d7b3-488d-8bed-74ab862413cd",
   "metadata": {},
   "outputs": [
    {
     "name": "stdout",
     "output_type": "stream",
     "text": [
      "1/1 [==============================] - 1s 516ms/step\n",
      "1/1 [==============================] - 0s 14ms/step\n",
      "1/1 [==============================] - 0s 17ms/step\n",
      "1/1 [==============================] - 0s 18ms/step\n",
      "1/1 [==============================] - 0s 25ms/step\n",
      "1/1 [==============================] - 0s 14ms/step\n",
      "1/1 [==============================] - 0s 14ms/step\n",
      "1/1 [==============================] - 0s 11ms/step\n",
      "1/1 [==============================] - 0s 11ms/step\n",
      "1/1 [==============================] - 0s 13ms/step\n",
      "1/1 [==============================] - 0s 11ms/step\n",
      "1/1 [==============================] - 0s 12ms/step\n",
      "1/1 [==============================] - 0s 11ms/step\n",
      "1/1 [==============================] - 0s 11ms/step\n",
      "1/1 [==============================] - 0s 11ms/step\n",
      "1/1 [==============================] - 0s 11ms/step\n",
      "1/1 [==============================] - 0s 11ms/step\n",
      "1/1 [==============================] - 0s 11ms/step\n",
      "1/1 [==============================] - 0s 11ms/step\n",
      "1/1 [==============================] - 0s 11ms/step\n",
      "1/1 [==============================] - 0s 11ms/step\n",
      "1/1 [==============================] - 0s 11ms/step\n",
      "1/1 [==============================] - 0s 12ms/step\n",
      "1/1 [==============================] - 0s 12ms/step\n",
      "1/1 [==============================] - 0s 13ms/step\n",
      "1/1 [==============================] - 0s 11ms/step\n",
      "1/1 [==============================] - 0s 11ms/step\n",
      "1/1 [==============================] - 0s 11ms/step\n",
      "1/1 [==============================] - 0s 20ms/step\n",
      "1/1 [==============================] - 0s 11ms/step\n",
      "1/1 [==============================] - 0s 11ms/step\n",
      "1/1 [==============================] - 0s 11ms/step\n",
      "1/1 [==============================] - 0s 11ms/step\n",
      "1/1 [==============================] - 0s 11ms/step\n",
      "1/1 [==============================] - 0s 11ms/step\n",
      "1/1 [==============================] - 0s 11ms/step\n",
      "1/1 [==============================] - 0s 11ms/step\n",
      "1/1 [==============================] - 0s 11ms/step\n",
      "1/1 [==============================] - 0s 11ms/step\n",
      "1/1 [==============================] - 0s 11ms/step\n",
      "1/1 [==============================] - 0s 11ms/step\n",
      "1/1 [==============================] - 0s 11ms/step\n",
      "1/1 [==============================] - 0s 11ms/step\n",
      "1/1 [==============================] - 0s 11ms/step\n",
      "1/1 [==============================] - 0s 11ms/step\n",
      "1/1 [==============================] - 0s 11ms/step\n",
      "1/1 [==============================] - 0s 11ms/step\n",
      "1/1 [==============================] - 0s 11ms/step\n"
     ]
    }
   ],
   "source": [
    "### testing\n",
    "prediction_test = []\n",
    "batch_one = training_set_scaled[-ws:]\n",
    "batch_new = batch_one.reshape((1,ws,3))\n",
    "\n",
    "for i in range(48):\n",
    "    first_prediction = model_loaded.predict(batch_new)[0]\n",
    "    prediction_test.append(first_prediction)\n",
    "    # batch_new = np.append(batch_new[:,1:,:],[[first_prediction]],axis=1)\n",
    "    new_var = test_set_scaled[i,:]\n",
    "    new_var = new_var.reshape(1,2)\n",
    "    new_test = np.insert(new_var,2,[first_prediction], axis = 1)\n",
    "    new_test = new_test.reshape(1,1,3)\n",
    "    batch_new = np.append(batch_new[:,1:,:], new_test, axis=1)\n",
    "\n",
    "prediction_test = np.array(prediction_test)"
   ]
  },
  {
   "cell_type": "code",
   "execution_count": 86,
   "id": "d80bf626-e6d7-480d-943e-52faf99bad3b",
   "metadata": {},
   "outputs": [
    {
     "data": {
      "text/plain": [
       "array([[0.27878788],\n",
       "       [0.25541126],\n",
       "       [0.23636364],\n",
       "       ...,\n",
       "       [0.42770563],\n",
       "       [0.38268398],\n",
       "       [0.33506494]])"
      ]
     },
     "execution_count": 86,
     "metadata": {},
     "output_type": "execute_result"
    }
   ],
   "source": [
    "si = MinMaxScaler(feature_range=(0,1))\n",
    "y_scaled = training_set[:,2:3]   ## Extract all the row but only last col\n",
    "si.fit_transform(y_scaled)\n"
   ]
  },
  {
   "cell_type": "code",
   "execution_count": 87,
   "id": "bdd73c67-924d-40b2-bb8a-4f0a26c0ea68",
   "metadata": {},
   "outputs": [],
   "source": [
    "prediction = si.inverse_transform(prediction_test)"
   ]
  },
  {
   "cell_type": "code",
   "execution_count": 88,
   "id": "bd07764f-7a52-497b-afa5-ec4393df8ce6",
   "metadata": {},
   "outputs": [
    {
     "data": {
      "text/plain": [
       "array([[ 909.14703],\n",
       "       [ 862.9104 ],\n",
       "       [ 839.06116],\n",
       "       [ 833.4733 ],\n",
       "       [ 844.6118 ],\n",
       "       [ 886.0943 ],\n",
       "       [ 970.7574 ],\n",
       "       [1061.9731 ],\n",
       "       [1095.2529 ],\n",
       "       [1080.7894 ],\n",
       "       [1053.4855 ],\n",
       "       [1030.4462 ],\n",
       "       [1013.34235],\n",
       "       [ 996.20526],\n",
       "       [ 976.4472 ],\n",
       "       [ 958.5193 ],\n",
       "       [ 958.1637 ],\n",
       "       [1010.4502 ],\n",
       "       [1135.576  ],\n",
       "       [1191.9071 ],\n",
       "       [1148.6664 ],\n",
       "       [1128.9744 ],\n",
       "       [1080.8912 ],\n",
       "       [1008.00684],\n",
       "       [ 926.6705 ],\n",
       "       [ 863.4367 ],\n",
       "       [ 830.5376 ],\n",
       "       [ 820.7462 ],\n",
       "       [ 825.2985 ],\n",
       "       [ 841.042  ],\n",
       "       [ 885.8808 ],\n",
       "       [ 992.18427],\n",
       "       [1100.1273 ],\n",
       "       [1112.7953 ],\n",
       "       [1075.8721 ],\n",
       "       [1035.73   ],\n",
       "       [1001.5305 ],\n",
       "       [ 966.7984 ],\n",
       "       [ 931.1889 ],\n",
       "       [ 903.76904],\n",
       "       [ 895.85175],\n",
       "       [ 918.9555 ],\n",
       "       [ 947.62726],\n",
       "       [ 963.2529 ],\n",
       "       [ 995.30054],\n",
       "       [1008.1395 ],\n",
       "       [ 994.1118 ],\n",
       "       [ 966.39404]], dtype=float32)"
      ]
     },
     "execution_count": 88,
     "metadata": {},
     "output_type": "execute_result"
    }
   ],
   "source": [
    "prediction"
   ]
  },
  {
   "cell_type": "code",
   "execution_count": 89,
   "id": "455765ce-ab05-4a03-8170-4972a0a69b60",
   "metadata": {},
   "outputs": [],
   "source": [
    "real_values = test_set[:,2]"
   ]
  },
  {
   "cell_type": "code",
   "execution_count": 90,
   "id": "058a13ce-2981-4b3f-b606-94a6a908e9fd",
   "metadata": {},
   "outputs": [
    {
     "data": {
      "image/png": "[encoded data removed]",
      "text/plain": [
       "<Figure size 640x480 with 1 Axes>"
      ]
     },
     "metadata": {},
     "output_type": "display_data"
    }
   ],
   "source": [
    "plt.plot(real_values,color='red',label='Actual Electrical consumption')\n",
    "plt.plot(prediction,color='blue',label='predicted Electric consumption')\n",
    "plt.title('LSTM - Multivariant forcasting')\n",
    "plt.xlabel('Time (hr)')\n",
    "plt.ylabel('Electric Demand')\n",
    "plt.legend()\n",
    "plt.show()"
   ]
  },
  {
   "cell_type": "code",
   "execution_count": 91,
   "id": "9a485a61-505a-4609-9d18-e2e7eddfeeef",
   "metadata": {},
   "outputs": [],
   "source": [
    "import math\n",
    "from sklearn.metrics import mean_squared_error, r2_score\n",
    "rmse = math.sqrt(mean_squared_error(real_values,prediction))"
   ]
  },
  {
   "cell_type": "code",
   "execution_count": 92,
   "id": "5c81c206-f4d2-4062-838a-c1dfd7b38b6d",
   "metadata": {},
   "outputs": [
    {
     "data": {
      "text/plain": [
       "158.34784650754253"
      ]
     },
     "execution_count": 92,
     "metadata": {},
     "output_type": "execute_result"
    }
   ],
   "source": [
    "rmse"
   ]
  },
  {
   "cell_type": "code",
   "execution_count": 93,
   "id": "1aea9d4b-3ca8-480a-ae9c-a8ee0b4dfa6c",
   "metadata": {},
   "outputs": [
    {
     "data": {
      "text/plain": [
       "-0.6583052126313307"
      ]
     },
     "execution_count": 93,
     "metadata": {},
     "output_type": "execute_result"
    }
   ],
   "source": [
    "r2_score(real_values,prediction)"
   ]
  },
  {
   "cell_type": "code",
   "execution_count": null,
   "id": "3bdbccbd-1f33-4d8d-b0a5-6ac06706f62f",
   "metadata": {},
   "outputs": [],
   "source": []
  },
  {
   "cell_type": "code",
   "execution_count": null,
   "id": "0f88fc77-ff00-4cb0-8ff0-1ed8bf8cb548",
   "metadata": {},
   "outputs": [],
   "source": []
  }
 ],
 "metadata": {
  "kernelspec": {
   "display_name": "Python 3",
   "language": "python",
   "name": "python3"
  },
  "language_info": {
   "codemirror_mode": {
    "name": "ipython",
    "version": 3
   },
   "file_extension": ".py",
   "mimetype": "text/x-python",
   "name": "python",
   "nbconvert_exporter": "python",
   "pygments_lexer": "ipython3",
   "version": "3.9.18"
  }
 },
 "nbformat": 4,
 "nbformat_minor": 5
}
