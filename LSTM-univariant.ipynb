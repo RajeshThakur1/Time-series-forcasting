{
 "cells": [
  {
   "cell_type": "code",
   "execution_count": 1,
   "id": "8158503d-da68-4542-a623-a127d22db546",
   "metadata": {},
   "outputs": [],
   "source": [
    "import pandas as pd\n",
    "import numpy as np\n",
    "import matplotlib.pyplot as plt"
   ]
  },
  {
   "cell_type": "code",
   "execution_count": 2,
   "id": "7ad2fc21-8097-4c90-9220-a7849586080f",
   "metadata": {},
   "outputs": [],
   "source": [
    "df = pd.read_csv('Solar+Data+Set.csv')"
   ]
  },
  {
   "cell_type": "code",
   "execution_count": 4,
   "id": "e0808964-186e-4568-9b9a-01e43e28d25b",
   "metadata": {},
   "outputs": [],
   "source": [
    "df.dropna(inplace=True)"
   ]
  },
  {
   "cell_type": "code",
   "execution_count": 6,
   "id": "7a7479b9-6f38-4f0f-8311-ad28734cca30",
   "metadata": {},
   "outputs": [],
   "source": [
    "training_set = df.iloc[:8712,1:2].values\n",
    "test_set = df.iloc[8712:,1:2].values"
   ]
  },
  {
   "cell_type": "code",
   "execution_count": 9,
   "id": "bf9ba630-e5ff-4887-a215-27947c1d9c63",
   "metadata": {},
   "outputs": [],
   "source": [
    "from sklearn.preprocessing import MinMaxScaler"
   ]
  },
  {
   "cell_type": "code",
   "execution_count": 10,
   "id": "f9f76d4c-3c7b-4b20-8f1b-43e7b5e4a863",
   "metadata": {},
   "outputs": [],
   "source": [
    "sc = MinMaxScaler(feature_range = (0,1))"
   ]
  },
  {
   "cell_type": "code",
   "execution_count": 11,
   "id": "40d63dc9-d911-4b7c-8ac9-48ed7a08f3d6",
   "metadata": {},
   "outputs": [],
   "source": [
    "training_set_scaled = sc.fit_transform(training_set)\n",
    "test_set_scaled = sc.fit_transform(test_set)"
   ]
  },
  {
   "cell_type": "code",
   "execution_count": 12,
   "id": "f9a99ffc-2ec4-4e3a-863b-ea49547e9df0",
   "metadata": {},
   "outputs": [],
   "source": [
    "X_train = []\n",
    "y_train = []\n",
    "ws = 24\n",
    "\n",
    "for i in range(ws,len(training_set_scaled)):\n",
    "    X_train.append(training_set_scaled[i-ws:i,0:1])\n",
    "    y_train.append(training_set_scaled[i,0]) \n",
    "X_train,y_train = np.array(X_train),np.array(y_train)"
   ]
  },
  {
   "cell_type": "code",
   "execution_count": 14,
   "id": "a97c743e-27a1-4e09-94a1-c1e6b952c4b0",
   "metadata": {},
   "outputs": [
    {
     "data": {
      "text/plain": [
       "(8688, 24, 1)"
      ]
     },
     "execution_count": 14,
     "metadata": {},
     "output_type": "execute_result"
    }
   ],
   "source": [
    "X_train.shape"
   ]
  },
  {
   "cell_type": "code",
   "execution_count": 16,
   "id": "d31de43e-0339-4e61-ac18-785299892439",
   "metadata": {},
   "outputs": [],
   "source": [
    "# Devloping the LSTM MODEL\n",
    "\n",
    "from keras.models import Sequential\n",
    "from keras.layers import LSTM\n",
    "from keras.layers import Dense\n",
    "from keras.layers import Dropout\n"
   ]
  },
  {
   "cell_type": "code",
   "execution_count": 18,
   "id": "31fb5aba-8fbb-4734-ab04-47c11c55437e",
   "metadata": {},
   "outputs": [
    {
     "name": "stdout",
     "output_type": "stream",
     "text": [
      "Epoch 1/30\n"
     ]
    },
    {
     "name": "stderr",
     "output_type": "stream",
     "text": [
      "2023-12-01 13:42:22.734317: I tensorflow/core/grappler/optimizers/custom_graph_optimizer_registry.cc:117] Plugin optimizer for device_type GPU is enabled.\n"
     ]
    },
    {
     "name": "stdout",
     "output_type": "stream",
     "text": [
      "272/272 [==============================] - 10s 21ms/step - loss: 0.0233\n",
      "Epoch 2/30\n",
      "272/272 [==============================] - 5s 19ms/step - loss: 0.0036\n",
      "Epoch 3/30\n",
      "272/272 [==============================] - 5s 19ms/step - loss: 0.0013\n",
      "Epoch 4/30\n",
      "272/272 [==============================] - 5s 19ms/step - loss: 0.0015\n",
      "Epoch 5/30\n",
      "272/272 [==============================] - 5s 19ms/step - loss: 4.9164e-04\n",
      "Epoch 6/30\n",
      "272/272 [==============================] - 5s 19ms/step - loss: 4.5515e-04\n",
      "Epoch 7/30\n",
      "272/272 [==============================] - 5s 19ms/step - loss: 4.3941e-04\n",
      "Epoch 8/30\n",
      "272/272 [==============================] - 5s 19ms/step - loss: 9.4572e-04\n",
      "Epoch 9/30\n",
      "272/272 [==============================] - 5s 19ms/step - loss: 2.7965e-04\n",
      "Epoch 10/30\n",
      "272/272 [==============================] - 5s 19ms/step - loss: 2.9271e-04\n",
      "Epoch 11/30\n",
      "272/272 [==============================] - 5s 19ms/step - loss: 8.9155e-04\n",
      "Epoch 12/30\n",
      "272/272 [==============================] - 5s 19ms/step - loss: 3.3905e-04\n",
      "Epoch 13/30\n",
      "272/272 [==============================] - 5s 19ms/step - loss: 2.2238e-04\n",
      "Epoch 14/30\n",
      "272/272 [==============================] - 5s 19ms/step - loss: 3.0463e-04\n",
      "Epoch 15/30\n",
      "272/272 [==============================] - 5s 19ms/step - loss: 4.0011e-04\n",
      "Epoch 16/30\n",
      "272/272 [==============================] - 5s 19ms/step - loss: 2.5784e-04\n",
      "Epoch 17/30\n",
      "272/272 [==============================] - 5s 19ms/step - loss: 1.7562e-04\n",
      "Epoch 18/30\n",
      "272/272 [==============================] - 5s 19ms/step - loss: 2.1499e-04\n",
      "Epoch 19/30\n",
      "272/272 [==============================] - 5s 19ms/step - loss: 3.6974e-04\n",
      "Epoch 20/30\n",
      "272/272 [==============================] - 5s 19ms/step - loss: 3.2591e-04\n",
      "Epoch 21/30\n",
      "272/272 [==============================] - 5s 19ms/step - loss: 1.7038e-04\n",
      "Epoch 22/30\n",
      "272/272 [==============================] - 5s 20ms/step - loss: 1.4582e-04\n",
      "Epoch 23/30\n",
      "272/272 [==============================] - 5s 20ms/step - loss: 2.4310e-04\n",
      "Epoch 24/30\n",
      "272/272 [==============================] - 5s 20ms/step - loss: 4.6604e-04\n",
      "Epoch 25/30\n",
      "272/272 [==============================] - 5s 20ms/step - loss: 1.8396e-04\n",
      "Epoch 26/30\n",
      "272/272 [==============================] - 5s 19ms/step - loss: 1.7193e-04\n",
      "Epoch 27/30\n",
      "272/272 [==============================] - 5s 19ms/step - loss: 1.8515e-04\n",
      "Epoch 28/30\n",
      "272/272 [==============================] - 5s 20ms/step - loss: 2.0225e-04\n",
      "Epoch 29/30\n",
      "272/272 [==============================] - 5s 20ms/step - loss: 2.2747e-04\n",
      "Epoch 30/30\n",
      "272/272 [==============================] - 5s 20ms/step - loss: 1.7518e-04\n"
     ]
    },
    {
     "data": {
      "text/plain": [
       "<keras.src.callbacks.History at 0x293cd9b50>"
      ]
     },
     "execution_count": 18,
     "metadata": {},
     "output_type": "execute_result"
    }
   ],
   "source": [
    "model_p = Sequential()\n",
    "model_p.add(LSTM(units=60,return_sequences=True, input_shape=(X_train.shape[1],1)))\n",
    "model_p.add(Dropout(0.2))\n",
    "\n",
    "model_p.add(LSTM(units=60,return_sequences=True))\n",
    "model_p.add(Dropout(0.2))\n",
    "\n",
    "model_p.add(LSTM(units=60,return_sequences=True))\n",
    "model_p.add(Dropout(0.2))\n",
    "\n",
    "model_p.add(LSTM(units=60))\n",
    "model_p.add(Dropout(0.2))\n",
    "\n",
    "model_p.add(Dense(units=1))\n",
    "\n",
    "model_p.compile(optimizer='adam',loss='mean_squared_error')\n",
    "model_p.fit(X_train,y_train, epochs=30, batch_size=32)\n"
   ]
  },
  {
   "cell_type": "code",
   "execution_count": 19,
   "id": "8faa512f-9da3-427f-962a-ef4ad7991e78",
   "metadata": {},
   "outputs": [
    {
     "name": "stdout",
     "output_type": "stream",
     "text": [
      "INFO:tensorflow:Assets written to: LSTM-Univariant/assets\n"
     ]
    },
    {
     "name": "stderr",
     "output_type": "stream",
     "text": [
      "INFO:tensorflow:Assets written to: LSTM-Univariant/assets\n"
     ]
    }
   ],
   "source": [
    "model_p.save('LSTM-Univariant')"
   ]
  },
  {
   "cell_type": "code",
   "execution_count": 20,
   "id": "6963d913-07cf-46d6-a5b9-e6b69ef76ceb",
   "metadata": {},
   "outputs": [
    {
     "data": {
      "image/png": "[encoded data removed]",
      "text/plain": [
       "<Figure size 640x480 with 1 Axes>"
      ]
     },
     "metadata": {},
     "output_type": "display_data"
    }
   ],
   "source": [
    "plt.plot(range(len(model_p.history.history['loss'])),model_p.history.history['loss'])\n",
    "plt.xlabel('epoch number')\n",
    "plt.ylabel('loss')\n",
    "plt.show()\n"
   ]
  },
  {
   "cell_type": "code",
   "execution_count": 21,
   "id": "1d8bb0a9-7b96-4836-9de7-8ec1e4a6b1f6",
   "metadata": {},
   "outputs": [],
   "source": [
    "from keras.models import load_model\n",
    "model_loaded = load_model('LSTM-Univariant')"
   ]
  },
  {
   "cell_type": "code",
   "execution_count": 24,
   "id": "efaa19d2-1118-436c-93fc-23bcbe00b4d9",
   "metadata": {},
   "outputs": [
    {
     "name": "stdout",
     "output_type": "stream",
     "text": [
      "1/1 [==============================] - 0s 37ms/step\n",
      "1/1 [==============================] - 0s 15ms/step\n",
      "1/1 [==============================] - 0s 13ms/step\n",
      "1/1 [==============================] - 0s 13ms/step\n",
      "1/1 [==============================] - 0s 13ms/step\n",
      "1/1 [==============================] - 0s 13ms/step\n",
      "1/1 [==============================] - 0s 23ms/step\n",
      "1/1 [==============================] - 0s 13ms/step\n",
      "1/1 [==============================] - 0s 12ms/step\n",
      "1/1 [==============================] - 0s 12ms/step\n",
      "1/1 [==============================] - 0s 12ms/step\n",
      "1/1 [==============================] - 0s 13ms/step\n",
      "1/1 [==============================] - 0s 13ms/step\n",
      "1/1 [==============================] - 0s 12ms/step\n",
      "1/1 [==============================] - 0s 12ms/step\n",
      "1/1 [==============================] - 0s 12ms/step\n",
      "1/1 [==============================] - 0s 12ms/step\n",
      "1/1 [==============================] - 0s 12ms/step\n",
      "1/1 [==============================] - 0s 12ms/step\n",
      "1/1 [==============================] - 0s 12ms/step\n",
      "1/1 [==============================] - 0s 12ms/step\n",
      "1/1 [==============================] - 0s 12ms/step\n",
      "1/1 [==============================] - 0s 12ms/step\n",
      "1/1 [==============================] - 0s 12ms/step\n",
      "1/1 [==============================] - 0s 12ms/step\n",
      "1/1 [==============================] - 0s 13ms/step\n",
      "1/1 [==============================] - 0s 13ms/step\n",
      "1/1 [==============================] - 0s 13ms/step\n",
      "1/1 [==============================] - 0s 12ms/step\n",
      "1/1 [==============================] - 0s 13ms/step\n",
      "1/1 [==============================] - 0s 12ms/step\n",
      "1/1 [==============================] - 0s 12ms/step\n",
      "1/1 [==============================] - 0s 12ms/step\n",
      "1/1 [==============================] - 0s 13ms/step\n",
      "1/1 [==============================] - 0s 12ms/step\n",
      "1/1 [==============================] - 0s 12ms/step\n",
      "1/1 [==============================] - 0s 12ms/step\n",
      "1/1 [==============================] - 0s 12ms/step\n",
      "1/1 [==============================] - 0s 13ms/step\n",
      "1/1 [==============================] - 0s 12ms/step\n",
      "1/1 [==============================] - 0s 13ms/step\n",
      "1/1 [==============================] - 0s 12ms/step\n",
      "1/1 [==============================] - 0s 13ms/step\n",
      "1/1 [==============================] - 0s 12ms/step\n",
      "1/1 [==============================] - 0s 13ms/step\n",
      "1/1 [==============================] - 0s 13ms/step\n",
      "1/1 [==============================] - 0s 13ms/step\n",
      "1/1 [==============================] - 0s 13ms/step\n"
     ]
    }
   ],
   "source": [
    "### testing\n",
    "prediction_test = []\n",
    "batch_one = training_set_scaled[-ws:]\n",
    "batch_new = batch_one.reshape((1,ws,1))\n",
    "\n",
    "for i in range(48):\n",
    "    first_prediction = model_loaded.predict(batch_new)[0]\n",
    "    prediction_test.append(first_prediction)\n",
    "    batch_new = np.append(batch_new[:,1:,:],[[first_prediction]],axis=1)"
   ]
  },
  {
   "cell_type": "code",
   "execution_count": 28,
   "id": "1f94e5e0-3bbb-40d0-8890-ab531b5562cf",
   "metadata": {},
   "outputs": [],
   "source": [
    "prediction_test = np.array(prediction_test)\n",
    "prediction = sc.inverse_transform(prediction_test)"
   ]
  },
  {
   "cell_type": "code",
   "execution_count": 29,
   "id": "483b7ffb-50bb-4a3d-8698-c161077284df",
   "metadata": {},
   "outputs": [
    {
     "data": {
      "text/plain": [
       "array([[0.00086382],\n",
       "       [0.00091037],\n",
       "       [0.00097372],\n",
       "       [0.00104439],\n",
       "       [0.00110524],\n",
       "       [0.00111674],\n",
       "       [0.00100392],\n",
       "       [0.00101121],\n",
       "       [0.01589686],\n",
       "       [0.08305553],\n",
       "       [0.11896089],\n",
       "       [0.13685852],\n",
       "       [0.14186417],\n",
       "       [0.13368252],\n",
       "       [0.1086731 ],\n",
       "       [0.0641453 ],\n",
       "       [0.00184798],\n",
       "       [0.00211162],\n",
       "       [0.0021786 ],\n",
       "       [0.0019881 ],\n",
       "       [0.00161632],\n",
       "       [0.00123   ],\n",
       "       [0.00095631],\n",
       "       [0.00082154],\n",
       "       [0.0007919 ],\n",
       "       [0.00082822],\n",
       "       [0.00090334],\n",
       "       [0.00098902],\n",
       "       [0.00106068],\n",
       "       [0.00107751],\n",
       "       [0.00097474],\n",
       "       [0.00109739],\n",
       "       [0.01580416],\n",
       "       [0.07993014],\n",
       "       [0.11447758],\n",
       "       [0.13196999],\n",
       "       [0.1366568 ],\n",
       "       [0.12763788],\n",
       "       [0.10205523],\n",
       "       [0.06022744],\n",
       "       [0.00945172],\n",
       "       [0.00897535],\n",
       "       [0.00728402],\n",
       "       [0.00501382],\n",
       "       [0.00301761],\n",
       "       [0.00173465],\n",
       "       [0.00109057],\n",
       "       [0.00083455]], dtype=float32)"
      ]
     },
     "execution_count": 29,
     "metadata": {},
     "output_type": "execute_result"
    }
   ],
   "source": [
    "prediction"
   ]
  },
  {
   "cell_type": "code",
   "execution_count": 30,
   "id": "6a429df4-a5a9-48e4-91fe-42fbc5f8242c",
   "metadata": {},
   "outputs": [
    {
     "data": {
      "image/png": "[encoded data removed]",
      "text/plain": [
       "<Figure size 640x480 with 1 Axes>"
      ]
     },
     "metadata": {},
     "output_type": "display_data"
    }
   ],
   "source": [
    "plt.plot(test_set,color='red',label='Actual Radiation')\n",
    "plt.plot(prediction,color='blue',label='predicted Rediation')\n",
    "plt.title('LSTM - Univariant forcasting')\n",
    "plt.xlabel('hour')\n",
    "plt.ylabel('Rad')\n",
    "plt.legend()\n",
    "plt.show()"
   ]
  },
  {
   "cell_type": "code",
   "execution_count": 34,
   "id": "02926ed4-9100-4255-a753-55380475d809",
   "metadata": {},
   "outputs": [],
   "source": [
    "import math\n",
    "from sklearn.metrics import mean_squared_error, r2_score\n",
    "rmse = math.sqrt(mean_squared_error(test_set,prediction))"
   ]
  },
  {
   "cell_type": "code",
   "execution_count": 32,
   "id": "ec9a94dd-165b-44f6-902e-e4ec8d4cf370",
   "metadata": {},
   "outputs": [
    {
     "data": {
      "text/plain": [
       "0.012669561475824154"
      ]
     },
     "execution_count": 32,
     "metadata": {},
     "output_type": "execute_result"
    }
   ],
   "source": [
    "rmse"
   ]
  },
  {
   "cell_type": "code",
   "execution_count": 35,
   "id": "f48dd2b9-95b3-4a0e-a97e-97da4ae2ec33",
   "metadata": {},
   "outputs": [
    {
     "data": {
      "text/plain": [
       "0.9581820383346336"
      ]
     },
     "execution_count": 35,
     "metadata": {},
     "output_type": "execute_result"
    }
   ],
   "source": [
    "r2_score(test_set,prediction)"
   ]
  },
  {
   "cell_type": "code",
   "execution_count": null,
   "id": "16cad966-0daa-492e-a512-a685ab111ff2",
   "metadata": {},
   "outputs": [],
   "source": []
  }
 ],
 "metadata": {
  "kernelspec": {
   "display_name": "Python 3 (ipykernel)",
   "language": "python",
   "name": "python3"
  },
  "language_info": {
   "codemirror_mode": {
    "name": "ipython",
    "version": 3
   },
   "file_extension": ".py",
   "mimetype": "text/x-python",
   "name": "python",
   "nbconvert_exporter": "python",
   "pygments_lexer": "ipython3",
   "version": "3.9.18"
  }
 },
 "nbformat": 4,
 "nbformat_minor": 5
}
